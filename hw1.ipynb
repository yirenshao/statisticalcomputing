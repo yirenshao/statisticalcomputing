{
 "cells": [
  {
   "cell_type": "markdown",
   "id": "707f4afa-2154-4cf0-ba97-47043c04b4f6",
   "metadata": {},
   "source": [
    "# Homework 1"
   ]
  },
  {
   "cell_type": "markdown",
   "id": "6ffbf2ca-c707-40a7-b143-fa07b6585931",
   "metadata": {},
   "source": [
    "## Task 1 - Wordle"
   ]
  },
  {
   "cell_type": "markdown",
   "id": "c7a799e9-096c-490c-8f14-3904b033e3f2",
   "metadata": {},
   "source": [
    "we implement a puzzle_solver, that reduces the guessList with each iteration/guess. \n",
    "We use simple readlines method to read the wordle text file, and we using sets to keep track of green and yellow letters. "
   ]
  },
  {
   "cell_type": "code",
   "execution_count": 2,
   "id": "3db0b01d-724e-4bb3-8e95-7ab8cb60652d",
   "metadata": {},
   "outputs": [],
   "source": [
    "import wordle\n",
    "import random\n",
    "\n",
    "def puzzle_solver(p):\n",
    "    \"\"\"\n",
    "    In this function, we are implementing a puzzle_solver, that reduces the guessList with each iteration/guess. \n",
    "    We use simple readlines method to read the wordle text file, and we using sets to keep track of green and yellow letters. \n",
    "    We have implemented a basic Wordle game in Python which you can play by importing the worldle module, which contains the puzzle class.\n",
    "    To play a game you can create a puzzle with wordle.puzzle() for a random secret word or wordle.puzzle(seed=123) to get a specific word, \n",
    "    \"\"\"\n",
    "    with open(\"data/wordle.txt\") as file:\n",
    "        guesslist = [x.rstrip() for x in file.readlines()] #standard way to read in a .txt file \n",
    "    \n",
    "    with open(\"data/wordle.txt\") as file:\n",
    "        currentguesslist = [x.rstrip() for x in file.readlines()]  #standard way to read in a .txt file \n",
    "    \n",
    "    greenletters = set()\n",
    " #using set() learned in class to implement a green set() and yellow set    \n",
    "    yellowletters = set()\n",
    "    \n",
    "\n",
    "    while p.n_guesses() < 6: #number of guesses must be less than 6 \n",
    "    \n",
    "        \n",
    "        currentguess = random.choice(guesslist) #get random words from the updated list, this is the current guess\n",
    "        ret = p.guess(currentguess) #get guesses\n",
    "    \n",
    "        if p.is_solved(): #if puzzle is solved, break and return \n",
    "            break\n",
    "            \n",
    "        guesslist.remove(currentguess) # must make the guesslist smaller \n",
    "        currentguesslist.remove(currentguess) #must make the currentguesslist smaller.\n",
    "        \n",
    "        for i in range(5):\n",
    "            if ret[i] == '🟩':\n",
    "                greenletters.add(currentguess[i]) #to keep track of the green letters\n",
    "            if ret[i] == '🟨':\n",
    "                yellowletters.add(currentguess[i]) #to keep track of the yellow letters \n",
    "        \n",
    "        for i in range(5): #iterate through the 5 letters in the word \n",
    "            if ret[i] == '⬜' : #condition for white \n",
    "                for candidate in currentguesslist: #each time we must loop through the curren list of possible words \n",
    "                    if currentguess[i] in candidate and candidate in guesslist and currentguess[i] not in greenletters and currentguess[i] not in yellowletters:\n",
    "                        guesslist.remove(candidate) #list comprehension is used for the specific cases \n",
    "                    #candidate must be in guess list \n",
    "                    #must check the most conditions, including if the current letter is not in the set of green letters\n",
    "                    #must also check if the current letter is in the candidate \n",
    "                    #we will always remove the candidate if conditions are met \n",
    "            \n",
    "            if ret[i] == '🟩' : #conditional for green \n",
    "                for candidate in currentguesslist:\n",
    "                    if currentguess[i] != candidate[i] and candidate in guesslist:  #list comprehension is used for the specific cases \n",
    "                        guesslist.remove(candidate)\n",
    "                    #candidate must be in guess list \n",
    "                    #the current letter in the current guess must not equal the current letter in the candidate guess before removing \n",
    "                     #we will always remove the candidate if conditions are met \n",
    "                \n",
    "            if ret[i] == '🟨': #conditional for yellow \n",
    "                for candidate in currentguesslist: \n",
    "                    if currentguess[i] not in candidate and candidate in guesslist :  #list comprehension is used for the specific cases \n",
    "                        guesslist.remove(candidate)\n",
    "                    if currentguess[i] == candidate[i] and candidate in guesslist:\n",
    "                        guesslist.remove(candidate)\n",
    "                    #candidate must be in guess list \n",
    "                    #the current letter is removed if it equals the letter in the candidate \n",
    "                     #we will always remove the candidate if conditions are met \n",
    "                \n",
    "\n",
    "            currentguesslist = list(set(guesslist)) #update the guess list \n",
    "    \n",
    "    \n",
    "    return p #return the puzzle "
   ]
  },
  {
   "cell_type": "markdown",
   "id": "b02cc670-41c3-4181-b774-9742f87f7bf5",
   "metadata": {},
   "source": [
    "### Assessment"
   ]
  },
  {
   "cell_type": "code",
   "execution_count": 3,
   "id": "08356bed-aaa9-4feb-8e4e-9eab901df110",
   "metadata": {},
   "outputs": [
    {
     "name": "stdout",
     "output_type": "stream",
     "text": [
      "Solved 17 of 20 puzzles attempted.\n",
      "Average # of guesses required: 4.705882352941177\n"
     ]
    }
   ],
   "source": [
    "import random\n",
    "random.seed(1234)\n",
    "n = 20\n",
    "\n",
    "# Change both the seed value and `n` of puzzles to get \n",
    "# a more accurate view of your solver's performance.\n",
    "\n",
    "puzzles  = [wordle.puzzle() for i in range(n)]\n",
    "attempts = [puzzle_solver(p) for p in puzzles]\n",
    "solved   = [p for p in puzzles if p.is_solved()]\n",
    "n_guess  = [p.n_guesses() for p in solved]\n",
    "\n",
    "print(f\"Solved {len(solved)} of {len(puzzles)} puzzles attempted.\")\n",
    "if (len(solved) != 0):\n",
    "    print(f\"Average # of guesses required: {sum(n_guess)/len(n_guess)}\")                         "
   ]
  },
  {
   "cell_type": "markdown",
   "id": "32c885fe-2eeb-4e2a-a6db-27e5a8e79b75",
   "metadata": {
    "tags": []
   },
   "source": [
    "## Task 2"
   ]
  },
  {
   "cell_type": "markdown",
   "id": "75726715-cb53-48ff-a5f3-128cce10ab06",
   "metadata": {},
   "source": [
    "In task 2, we implement an algorithm that takes a matrix (a list of lists) filled with '.', '>','v' and modifies it iteratively according to a set of rules until it reaches a steady state. By steady state we mean that the matrix didn't change from one iteration to another. The final output is the number of iterations it took to reach this steady state\n",
    "\n",
    "To do this, we create two functions: advent_step() and advent_solve(). The former does the transformation according to a set of rules while the latter iterates until it finds the steady state and outputs the number of iterations.\n",
    "\n",
    "In advent_step(), we perform two loops. The first takes each row separetly and transforms them. It then appends each modified row. The second takes the modified rows, and does a similar job, except that it now takes the \"columns\" (this is a list of lists, so by this, we mean, for example, the third value of each indidivual row). \n",
    "\n",
    "In advent_solve(), we do a while loop that will run until the advent_step() function of one iteration is identical to that of the previous iteration. "
   ]
  },
  {
   "cell_type": "code",
   "execution_count": 4,
   "id": "1186c60e-e903-4155-b0f5-5a8fa553c69c",
   "metadata": {},
   "outputs": [],
   "source": [
    "import advent\n",
    "from copy import deepcopy"
   ]
  },
  {
   "cell_type": "code",
   "execution_count": 5,
   "id": "40e1a9d1-9db0-4a7a-9504-b2ea41fe38f0",
   "metadata": {},
   "outputs": [],
   "source": [
    "def advent_step(state):\n",
    "    \"\"\"\n",
    "    This function takes a matrix (a list of lists) as an input and returns a modified version of the original as output. \n",
    "    The function updates the state in two 'for' loops.\n",
    "    In the first for loop, we create a copy of each row, \n",
    "    if the element is '.' and the previous element in the same row is '>', it updates the current element to '>' and the previous element to '.'. \n",
    "    The same condition is checked for the columns, we create a copy of each  column, \n",
    "    if the element is '.' and the previous element in the same column is 'v', it updates the current element to 'v' and the previous element to '.'. \n",
    "    \"\"\"\n",
    "    result = []\n",
    "    for i in state:\n",
    "        # create a copy of the row\n",
    "        horizontal = i.copy()\n",
    "        len_x = len(horizontal)\n",
    "        horizontal_copy = horizontal.copy()\n",
    "        for j in range(len_x):\n",
    "            # if the current element is '.' and the previous element in the same row is '>',\n",
    "            # update the current element to '>' and the previous element to '.'\n",
    "            if horizontal[j]=='.' and horizontal[j-1] == '>':\n",
    "                horizontal_copy[j] = '>'\n",
    "                horizontal_copy[j-1] = '.'\n",
    "            else:\n",
    "                pass\n",
    "        # add the updated row to the result list\n",
    "        result.append(horizontal_copy) \n",
    "    for k in range(len(result[0])):\n",
    "        # get the kth column from the result list\n",
    "        vertical = [item[k] for item in result]\n",
    "        len_y = len(vertical)\n",
    "        vertical_copy = vertical.copy()\n",
    "        for i in range(len_y):\n",
    "            # if the current element is '.' and the previous element in the same column is 'v',\n",
    "            # update the current element to 'v' and the previous element to '.'\n",
    "            if vertical[i]=='.' and vertical[i-1] == 'v':\n",
    "                vertical_copy[i] = 'v'\n",
    "                vertical_copy[i-1] = '.'\n",
    "            else:\n",
    "                pass\n",
    "        # update the original result list with the updated column\n",
    "        for i,item in enumerate(result):\n",
    "            item[k] = vertical_copy[i]\n",
    "    # return the updated result list\n",
    "    return(result)"
   ]
  },
  {
   "cell_type": "code",
   "execution_count": 6,
   "id": "827aaacb-dadb-4855-88bc-b3e11ce85877",
   "metadata": {
    "tags": []
   },
   "outputs": [],
   "source": [
    "def advent_solve(state):\n",
    "    \"\"\"\n",
    "    This function takes a matrix (a list of lists) as input (state) and returns an integer as output. \n",
    "    The function calculates the number of steps required to reach a stable state of the state given as input.\n",
    "    \"\"\"\n",
    "    input = []\n",
    "    output = deepcopy(state)\n",
    "    # initialize the step counter\n",
    "    i=0\n",
    "    # continue the loop until a stable state is reached\n",
    "    while output != input:\n",
    "        # update the input state with the current output state\n",
    "        input = output\n",
    "        # update the output state using the advent_step function\n",
    "        output = advent_step(input)\n",
    "        # increment the step counter\n",
    "        i=i+1\n",
    "    return(i)"
   ]
  },
  {
   "cell_type": "code",
   "execution_count": 7,
   "id": "db68dee7-6bd1-489d-8dd4-2ccbf8ee25a5",
   "metadata": {},
   "outputs": [],
   "source": [
    "# Check that the implementation above returns the correct results\n",
    "assert advent_solve(advent.small) == 58\n",
    "assert advent_solve(advent.large) == 351"
   ]
  },
  {
   "cell_type": "markdown",
   "id": "771b7efe-6d0a-405a-946f-ad3ccc0c05e5",
   "metadata": {},
   "source": [
    "## Task 3"
   ]
  },
  {
   "cell_type": "markdown",
   "id": "fbb3af73-4c7f-4ebf-8858-c9ce21a8328f",
   "metadata": {},
   "source": [
    "In task 3, we reimplement advent_step() and advent_solve() using a NumPy ndarray instead of a list of lists and compare the performance between the two implementations. We directly subset a Numpy ndarray through indexes instead of copying row by row or column by column. Additional differences include the fact that we no longer use the method append, we no longer use a deepcopy and that, to evaluate if two Numpy arrays are equals, we used np.array_equal(). See discussion at the end for further comparison of the efficiency between the two."
   ]
  },
  {
   "cell_type": "code",
   "execution_count": 8,
   "id": "10834476-1aed-4941-bd4d-d6be106fd4f6",
   "metadata": {},
   "outputs": [],
   "source": [
    "import advent\n",
    "import numpy as np"
   ]
  },
  {
   "cell_type": "code",
   "execution_count": 9,
   "id": "d000015d-3d4d-4c11-b1dc-d0247443cf99",
   "metadata": {},
   "outputs": [],
   "source": [
    "def advent_step_np(state):\n",
    "    \"\"\"\n",
    "    This function takes a numpy matrix as an input and returns a modified version of the original as output.\n",
    "    The function updates the state in two 'for' loops.\n",
    "    Before the first for loop, we create a copy of input, \n",
    "    if the element is '.' and the previous element in the same row is '>', it updates the current element to '>' and the previous element to '.'. \n",
    "    The same condition is checked for the columns, we create a copy of the output of the first for loop, \n",
    "    if the element is '.' and the previous element in the same column is 'v', it updates the current element to 'v' and the previous element to '.'. \n",
    "    \"\"\"\n",
    "    #create a copy of input\n",
    "    first_rows = state.copy()\n",
    "    len_y = first_rows.shape[1]\n",
    "    len_x = first_rows.shape[0]\n",
    "    # for each row\n",
    "    for i in range(len_x):\n",
    "        # for each column\n",
    "        for j in range(len_y):\n",
    "            if state[i, j] == '.' and  state[i, j-1] == '>':\n",
    "                first_rows[i,j] = '>'\n",
    "                first_rows[i,j-1] = '.'\n",
    "            else:\n",
    "                pass\n",
    "    # create a copy of the output of the first for loop\n",
    "    second_cols = first_rows.copy()\n",
    "    # for each column\n",
    "    for j in range(len_y):\n",
    "        # for each row\n",
    "        for i in range(len_x):\n",
    "            if first_rows[i, j] == '.' and  first_rows[i-1, j] == 'v':\n",
    "                second_cols[i,j] = 'v'\n",
    "                second_cols[i-1,j] = '.'\n",
    "            else:\n",
    "                pass\n",
    "    return(second_cols)"
   ]
  },
  {
   "cell_type": "code",
   "execution_count": 10,
   "id": "9d1bb887-6d28-4411-9b37-7e9f57077ee3",
   "metadata": {},
   "outputs": [],
   "source": [
    "def advent_solve_np(state):\n",
    "    \"\"\"\n",
    "    This function takes a numpy matrix as input (state) and returns an integer as output. \n",
    "    The function calculates the number of steps required to reach a stable state of the state given as input.\n",
    "    \"\"\"\n",
    "    new_matrix = np.array(None)\n",
    "    output = state.copy()\n",
    "    # initialize the step counter\n",
    "    i=0\n",
    "    # continue the loop until a stable state is reached\n",
    "    while not np.array_equal(new_matrix, output):\n",
    "        # update the input state with the current output state\n",
    "        new_matrix = output\n",
    "        # update the output state using the advent_step function\n",
    "        output = advent_step_np(new_matrix)\n",
    "        # increment the step counter\n",
    "        i=i+1\n",
    "    return(i)"
   ]
  },
  {
   "cell_type": "code",
   "execution_count": 11,
   "id": "5e054fb6-a56a-4566-a2ef-8db8e851cc07",
   "metadata": {},
   "outputs": [],
   "source": [
    "# Check that the implementation above returns the correct results\n",
    "assert advent_solve_np(advent.small_np) == 58\n",
    "assert advent_solve_np(advent.large_np) == 351"
   ]
  },
  {
   "cell_type": "markdown",
   "id": "b32a87ed-3072-4a29-97c2-4c0fcee25a24",
   "metadata": {},
   "source": [
    "### Performance"
   ]
  },
  {
   "cell_type": "code",
   "execution_count": 12,
   "id": "3944981d-2771-4cec-b185-d1e19fb676e7",
   "metadata": {},
   "outputs": [
    {
     "name": "stdout",
     "output_type": "stream",
     "text": [
      "1.86 s ± 19.1 ms per loop (mean ± std. dev. of 3 runs, 1 loop each)\n"
     ]
    }
   ],
   "source": [
    "%timeit -r 3 advent_solve(advent.large)"
   ]
  },
  {
   "cell_type": "code",
   "execution_count": 13,
   "id": "4f747c99-580e-4856-8b07-7a4d85f09aec",
   "metadata": {},
   "outputs": [
    {
     "name": "stdout",
     "output_type": "stream",
     "text": [
      "5.68 s ± 15 ms per loop (mean ± std. dev. of 3 runs, 1 loop each)\n"
     ]
    }
   ],
   "source": [
    "%timeit -r 3 advent_solve_np(advent.large_np)"
   ]
  },
  {
   "cell_type": "markdown",
   "id": "df23f471-7afe-45fe-9a40-0e8092722b9f",
   "metadata": {},
   "source": [
    "Surprisingly, the performance of our list of lists implementation is better than Numpy one. This is not what we expected, since Numpy is precisely made for easy and efficient manipulation of vector-like objects. However, we have at least two possible reasons why the former was faster:\n",
    "- __The use of the method append in Task 2:__ In task 2, for the function advent_step(), for the first loop, instead of replacing the values of the original matrix, we create an empty list and we append each modified list to this new list of lists. Using append method has a time complexity of O(1), which is scalable.\n",
    "- __The use of only one deepcopy() in Task 2:__ In task 2, for the function advent_step(), we never used deepcopy. Instead, we extracted the rows one by one and appended them. We did something similar with the columns. We only had to use deepcopy() once in advent_solve(), and it was not part of a loop."
   ]
  },
  {
   "cell_type": "code",
   "execution_count": null,
   "id": "454c81b0-a86d-4a5e-a81f-8d330439d33d",
   "metadata": {},
   "outputs": [],
   "source": []
  },
  {
   "cell_type": "code",
   "execution_count": null,
   "id": "2e3f23b8-389e-47f4-b21c-ec09f1483734",
   "metadata": {},
   "outputs": [],
   "source": []
  }
 ],
 "metadata": {
  "kernelspec": {
   "display_name": "Python 3 (ipykernel)",
   "language": "python",
   "name": "python3"
  },
  "language_info": {
   "codemirror_mode": {
    "name": "ipython",
    "version": 3
   },
   "file_extension": ".py",
   "mimetype": "text/x-python",
   "name": "python",
   "nbconvert_exporter": "python",
   "pygments_lexer": "ipython3",
   "version": "3.10.9"
  }
 },
 "nbformat": 4,
 "nbformat_minor": 5
}
